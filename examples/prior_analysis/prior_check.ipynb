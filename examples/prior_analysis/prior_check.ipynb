{
 "cells": [
  {
   "cell_type": "code",
   "execution_count": null,
   "metadata": {},
   "outputs": [],
   "source": [
    "import matplotlib.pyplot as plt\n",
    "import numpy as np\n",
    "import os\n",
    "import pickle as pkl\n",
    "import sys\n",
    "import torch\n",
    "from typing import Optional\n",
    "\n",
    "from mlcg.nn import SumOut\n",
    "\n",
    "sys.path.insert(0, os.path.join(\"../..\"))\n",
    "from input_generator.prior_gen import PriorBuilder\n",
    "from prior_tools import symmetrized_keys_generator, optimal_offset, prior_evaluator"
   ]
  },
  {
   "cell_type": "code",
   "execution_count": null,
   "metadata": {},
   "outputs": [],
   "source": [
    "plots_path = \"./temp_figs\"\n",
    "if not os.path.isdir(plots_path):\n",
    "    os.mkdir(plots_path)\n",
    "# select the temperature for your simulations\n",
    "temperature = 300\n",
    "kB = 0.0019872041  # kcal/(mol⋅K)\n",
    "beta = 1 / (temperature * kB)"
   ]
  },
  {
   "cell_type": "code",
   "execution_count": null,
   "metadata": {},
   "outputs": [],
   "source": [
    "prior_model = torch.load(\"./prior_model_example.pt\")"
   ]
  },
  {
   "cell_type": "code",
   "execution_count": null,
   "metadata": {},
   "outputs": [],
   "source": [
    "with open(\"./prior_builders_example.pck\", \"rb\") as f:\n",
    "    prior_builders = pkl.load(f)"
   ]
  },
  {
   "cell_type": "code",
   "execution_count": null,
   "metadata": {},
   "outputs": [],
   "source": [
    "for idx, prior_bldr in enumerate(prior_builders):\n",
    "    print(f\"Index: {idx}, prior builder: {prior_bldr.name}\")"
   ]
  },
  {
   "cell_type": "code",
   "execution_count": null,
   "metadata": {},
   "outputs": [],
   "source": [
    "def basic_prior_visual_inspection(\n",
    "    prior_bldr: PriorBuilder,\n",
    "    prior_model: SumOut,\n",
    "    beta: float,\n",
    "    xlims = tuple[float,float],\n",
    "    ylims = tuple[float,float],\n",
    "    keys_per_fig: int = 1,\n",
    "    savedir: Optional[str] = None,\n",
    "    n_max_figs: Optional[int] = None,\n",
    "):\n",
    "    r\"\"\"\n",
    "    Function to plot the free energy distribution compared to the prior curve \n",
    "    \n",
    "    This function will plot the comparison between the free energy distribution\n",
    "    and the prior fit that should match it for every bead combination that was \n",
    "    found for the fit. The purpose of this function is to exemplify how to \n",
    "    extract the histograms fro the prior builder and how to correctly \n",
    "    compare this to the prior.\n",
    "\n",
    "    Normally the bead combinations are too many to be analyzed on a one-by-one basis.\n",
    "    This function can easily modified to filter the histograms and only plot the ones\n",
    "    that fail according to some criteria \n",
    "\n",
    "\n",
    "    Parameters\n",
    "    ----------\n",
    "\n",
    "    prior_bldr:\n",
    "        PriorBuilder object from which we will get the histograms\n",
    "    prior_model:\n",
    "        Prior as a mlcg.nn.SumOut object. It must contain a module whose name\n",
    "        coincides with the `prior_bldr` object\n",
    "    beta:\n",
    "        the inverse temperature (1/(KB*T)) in the energy units used by the prior model\n",
    "    xlims: \n",
    "        x-axis limits of the plots to be generated. This value depends on the prior type\n",
    "        to analyse and CG resolution.\n",
    "    xlims: \n",
    "        y-axis limits of the plots to be generated. same restrictions apply than to the `xlims`\n",
    "    keys_per_fig:\n",
    "        number of bead combinations to plot in every figure. Useful for comparing combinations\n",
    "        in the same plot\n",
    "    savedir:\n",
    "        dictionary where to save every plot generated\n",
    "    n_max_figs:\n",
    "        maximum number of figures to plot.\n",
    "    \n",
    "    \"\"\"\n",
    "    name = prior_bldr.name\n",
    "    # getting all  the bead combinations for which we collected statistics\n",
    "    keys = prior_bldr.histograms.data[name].keys()\n",
    "    # generating the list of possible bead combinations respecting symmetries\n",
    "    unique_keys = symmetrized_keys_generator(len(list(keys)[0]))\n",
    "    # intersecting the keys to avoid duplicating plots\n",
    "    keys_list = [key for key in keys if key in unique_keys]\n",
    "    print(f\"found {len(keys_list)} keys to plot for prior {name}\")\n",
    "    # get the prior module corresponding to this model\n",
    "    prior_module = prior_model.models[name].model\n",
    "    # this range controls how many different figures will we plot\n",
    "    n_figures = len(keys_list) // keys_per_fig\n",
    "    for i in range(n_figures):\n",
    "        if n_max_figs is not None and  i >= n_max_figs:\n",
    "            break\n",
    "        fig, ax = plt.subplots()\n",
    "        # how many curves do we want in every plot\n",
    "        end = (i + 1) * keys_per_fig\n",
    "        if end > len(keys_list):\n",
    "            end = len(keys_list)\n",
    "        for j in range(i * keys_per_fig, end):\n",
    "            key = keys_list[j]\n",
    "            # getting the histogram data\n",
    "            centers = prior_bldr.histograms.bin_centers\n",
    "            data = prior_bldr.histograms.data[name][key]\n",
    "            # converting probability into fre energy\n",
    "            data = -1 * np.log(data) / beta\n",
    "            # evaluate the prior in the bin centers from the histogram\n",
    "            prior_fit_values = prior_evaluator(prior_module, key, centers)\n",
    "            # finding the optimal offset between fit and data\n",
    "            offset = optimal_offset(np.array(prior_fit_values), data)\n",
    "            # evaluation range to see the prior. It is good to check\n",
    "            # that the prior is still extrapolating with an acceptable\n",
    "            # behaviour\n",
    "            eval_range = torch.linspace(xlims[0],xlims[1],201)\n",
    "            prior_fit_values_overlaped = prior_evaluator(prior_module, key, eval_range) + offset\n",
    "            # plot arrays with relevant labels\n",
    "            ax.plot(centers, data, lw=3, alpha=0.6, label=f\"{key} data\")\n",
    "            ax.plot(eval_range, prior_fit_values_overlaped, lw=1, alpha=0.6, label=f\"{key} fit\")\n",
    "        # make the plot pretty\n",
    "        ax.legend()\n",
    "        ax.grid()\n",
    "        ax.set_xlabel(f\"{name} value\")\n",
    "        ax.set_ylabel(\"FE/kT\")\n",
    "        ax.set_ylim(ylims[0],ylims[1])\n",
    "        ax.set_title(f\"Prior fit: {name}\")\n",
    "        if savedir is not None:\n",
    "            plt.savefig(f\"{savedir}/{name}_{i:03}.png\", dpi=200)\n",
    "        plt.show()\n",
    "        print(i)\n",
    "        "
   ]
  },
  {
   "cell_type": "code",
   "execution_count": null,
   "metadata": {},
   "outputs": [],
   "source": [
    "basic_prior_visual_inspection(\n",
    "    prior_bldr = prior_builders[0],\n",
    "    prior_model=prior_model,\n",
    "    beta=beta,\n",
    "    xlims=(2.5,4.5),\n",
    "    ylims=(-10.0,20.0),\n",
    "    keys_per_fig = 5,\n",
    "    n_max_figs=3,\n",
    "    savedir=plots_path,\n",
    ")"
   ]
  },
  {
   "cell_type": "code",
   "execution_count": null,
   "metadata": {},
   "outputs": [],
   "source": [
    "basic_prior_visual_inspection(\n",
    "    prior_bldr = prior_builders[1],\n",
    "    prior_model=prior_model,\n",
    "    beta=beta,\n",
    "    xlims=(-1.1,1.1),\n",
    "    ylims=(-10,15),\n",
    "    keys_per_fig = 1,\n",
    "    n_max_figs=2,\n",
    "    savedir=plots_path,\n",
    ")"
   ]
  },
  {
   "cell_type": "code",
   "execution_count": null,
   "metadata": {},
   "outputs": [],
   "source": [
    "basic_prior_visual_inspection(\n",
    "    prior_bldr = prior_builders[2],\n",
    "    prior_model=prior_model,\n",
    "    beta=beta,\n",
    "    xlims=(2,7),\n",
    "    ylims=(-10,15),\n",
    "    keys_per_fig = 3,\n",
    "    n_max_figs=1,\n",
    "    savedir=plots_path,\n",
    ")"
   ]
  },
  {
   "cell_type": "code",
   "execution_count": null,
   "metadata": {},
   "outputs": [],
   "source": []
  }
 ],
 "metadata": {
  "kernelspec": {
   "display_name": "mlcg-torch21",
   "language": "python",
   "name": "python3"
  },
  "language_info": {
   "codemirror_mode": {
    "name": "ipython",
    "version": 3
   },
   "file_extension": ".py",
   "mimetype": "text/x-python",
   "name": "python",
   "nbconvert_exporter": "python",
   "pygments_lexer": "ipython3",
   "version": "3.11.6"
  }
 },
 "nbformat": 4,
 "nbformat_minor": 4
}
